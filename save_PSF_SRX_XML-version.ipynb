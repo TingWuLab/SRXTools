{
 "cells": [
  {
   "cell_type": "markdown",
   "metadata": {},
   "source": [
    "# Read SRX Calibartion file (xml version) and PSF.db file to save PSF tiff\n"
   ]
  },
  {
   "cell_type": "markdown",
   "metadata": {},
   "source": [
    " Code a mix of code from Bruker, Sarah Aufmkolk and Laura Breimann\n",
    "\n",
    "This code was provided by Winfried Wiegraebe (Bruker Corporation) and adapted and commented by Sarah Aufmkolk to be distributed in the Wu lab. Winfried Wiegraebe produced the functions to read in the raw PSF data.\n",
    "\n",
    "Laura changed the code to read in xml files (instead of json) for older images and added a part to save the image as a tiff stack. \n",
    "\n",
    "This script allows to plot the PSF that was acquired during the second step of the system calibration for biplane-setups as it is necessary on Bruker VXL and Vutara 352 microscopes with 3D SMLM capabilities.\n",
    "The general outline for the folder structure used by SRX is described in the this manual chapter:\n",
    "https://guide.vutara.bruker.com/m/11201/l/596854-how-vutara-stores-data\n",
    "\n",
    "If you don't have access to the manual contact a Bruker representative.\n",
    "\n",
    "\n",
    "Please acknowledge that depending if you are a Mac or Windows user, your syntax for your path will be different. Adapt accordingly. \n",
    "The following line allows you to ask for the current directory and therefore hints to the syntax. \n",
    "\n",
    "os.getcwd()\n"
   ]
  },
  {
   "cell_type": "code",
   "execution_count": null,
   "metadata": {},
   "outputs": [],
   "source": [
    "import numpy as np\n",
    "import matplotlib.pyplot as plt\n",
    "import os\n",
    "import xml.etree.ElementTree as ET\n",
    "import tifffile as tf"
   ]
  },
  {
   "cell_type": "code",
   "execution_count": null,
   "metadata": {},
   "outputs": [],
   "source": [
    "# Path to calibration folder. Please identify the path where the Calibration file is located. \n",
    "calibration_path = \"/Users/laurabreimann/Desktop/Guys_data/PSFs/2017-08-03-19-34-25/Location-02/Calibration/\""
   ]
  },
  {
   "cell_type": "markdown",
   "metadata": {},
   "source": [
    "## Meta data of the calibration\n",
    "\n",
    "Recent versions of SRX replaced .xml with .json files to save settings. The file calibration.json contains information about the PSF used for fitting localizations and the dimensions of the raw data. This information will be read and assigned to the variable \"calibration_data\".\n",
    "\n",
    "Here we use the older version with an .xml file:"
   ]
  },
  {
   "cell_type": "code",
   "execution_count": null,
   "metadata": {},
   "outputs": [],
   "source": [
    "# Load the xml file\n",
    "tree = ET.parse(calibration_path +'calibration.xml')\n",
    "root = tree.getroot()"
   ]
  },
  {
   "cell_type": "code",
   "execution_count": null,
   "metadata": {},
   "outputs": [],
   "source": [
    "# Get tha data associated with the PSF (other data could also be loaded here)\n",
    "psf = root.find('PSF')"
   ]
  },
  {
   "cell_type": "code",
   "execution_count": null,
   "metadata": {},
   "outputs": [],
   "source": [
    "# Access data from the XML elements\n",
    "biplane_module = root.find('BiplaneModule')\n",
    "biplane_psf_red = biplane_module.find('.//BiplanePSF[@Name=\"Red\"]')\n",
    "\n",
    "objective = root.find('Objective')\n",
    "general = root.find('General')\n",
    "psf = root.find('PSF')\n",
    "\n",
    "# Extract specific attributes\n",
    "red_fwhm_warning = biplane_psf_red.get('FWHMWarning0')\n",
    "\n",
    "magnification = objective.get('Magnification')\n",
    "na = objective.get('NA')\n",
    "dichroic = general.get('Dichroic')\n",
    "pixel_size_x = psf.get('PixelSizeX')\n",
    "dim_y = psf.get('DimY')\n",
    "dim_z = psf.get('DimZ')\n",
    "\n",
    "# Print extracted data\n",
    "print(\"Red FWHM Warning:\", red_fwhm_warning)\n",
    "print(\"Magnification:\", magnification)\n",
    "print(\"NA:\", na)\n",
    "print(\"Dichroic:\", dichroic)\n",
    "print(\"Pixel Size X:\", pixel_size_x)\n",
    "print(\"Dim Y:\", dim_y)\n",
    "print(\"Dim Z:\", dim_z)"
   ]
  },
  {
   "cell_type": "markdown",
   "metadata": {},
   "source": [
    "The dimensions of the PSF calibration, which is an average of all chosen PSFs in the second step of the Super-resolution biplane calibration, is read out in the following. This allows us to display the center on the PSF representation later."
   ]
  },
  {
   "cell_type": "code",
   "execution_count": null,
   "metadata": {},
   "outputs": [],
   "source": [
    "# Save the dimensions as variables\n",
    "dim_x_psf = psf.get('DimX')\n",
    "dim_y_psf = psf.get('DimY')\n",
    "dim_z_psf = psf.get('DimZ')"
   ]
  },
  {
   "cell_type": "code",
   "execution_count": null,
   "metadata": {},
   "outputs": [],
   "source": [
    "# Convert the dimension strings to integers\n",
    "dim_z_psf = int(dim_z_psf)\n",
    "dim_x_psf = int(dim_x_psf)\n",
    "dim_y_psf = int(dim_y_psf)"
   ]
  },
  {
   "cell_type": "markdown",
   "metadata": {},
   "source": [
    "## Technical information of the PSF file in dbl format: \n",
    "The pixel data for the PSF is stored in .dbl files in float32 format with an offset of 128. We read the data directly into a numpy array.\n",
    "There is a 64 bit double float variant that we use for the \"theoretical\" psf that is stored within SRX, but all of the experimental psfs are 32 bit floats.\n",
    "The header (128 bytes total) contains:\n",
    "x dimension (4 byte int)\n",
    "y dimension (4 byte int)\n",
    "z dimension (4 byte int)\n",
    "zstep (4 byte float)\n",
    "x pixel size (4 byte float)\n",
    "y pixel size (4 byte float)\n",
    "unused (104 bytes)\n",
    "\n",
    "These values should match up with those in the json file."
   ]
  },
  {
   "cell_type": "markdown",
   "metadata": {},
   "source": [
    "The naming convention for the PSF \"PSF_{wavelength_used}{source_biplane}.dbl\"\n",
    "\n",
    "For Alexa Fluor 647, we use the 640nm laser, which has the SRX name: Red. Therefore the PSF would be stored in the file \"PSF_Red0.dbl\".\n"
   ]
  },
  {
   "cell_type": "code",
   "execution_count": null,
   "metadata": {},
   "outputs": [],
   "source": [
    "filename = 'PSF_Red0.dbl'\n",
    "file_path = os.path.join(calibration_path, filename)\n",
    "\n",
    "# Read the header information\n",
    "header_size = 128\n",
    "with open(file_path, 'rb') as file:\n",
    "    x_dim, y_dim, z_dim, z_step, x_pixel_size, y_pixel_size = np.fromfile(file, dtype=np.float32, count=6)\n",
    "\n",
    "# Calculate the total number of elements to read\n",
    "total_elements = dim_z_psf * dim_x_psf * dim_y_psf\n",
    "\n",
    "# Read binary data and reshape\n",
    "with open(file_path, 'rb') as file:\n",
    "    file.seek(header_size)  # Skip the header\n",
    "    psf_data = np.fromfile(file, dtype=np.float32, count=total_elements)\n",
    "\n",
    "psf = psf_data.reshape(dim_z_psf, dim_x_psf, dim_y_psf)"
   ]
  },
  {
   "cell_type": "code",
   "execution_count": null,
   "metadata": {},
   "outputs": [],
   "source": [
    "#The following three plots show the PSF in xy, xz and yz. The PSF is saved as a 3D matrix, if plotted the user has to chose a plane to be depicted. \n",
    "#Per default the center of the plane is displayed.\n",
    "\n",
    "fig, ax = plt.subplots(nrows=1, ncols=3, figsize=(10, 20))\n",
    "ax[0].imshow(psf[dim_z_psf // 2, :, :])\n",
    "ax[1].imshow(psf[:, dim_x_psf // 2, :])\n",
    "ax[2].imshow(psf[:, :, dim_y_psf // 2])"
   ]
  },
  {
   "cell_type": "code",
   "execution_count": null,
   "metadata": {},
   "outputs": [],
   "source": [
    "#If you want to see a specific slice of your PSF you can change the \"dim_z_psf // 2\" arguement to an absolute number.\n",
    "fig, ax = plt.subplots(nrows=1, ncols=3, figsize=(10, 20))\n",
    "ax[0].imshow(psf[16, :, :])\n",
    "ax[1].imshow(psf[:, 10, :])\n",
    "ax[2].imshow(psf[:, :, 10]);"
   ]
  },
  {
   "cell_type": "code",
   "execution_count": null,
   "metadata": {},
   "outputs": [],
   "source": [
    "output_directory = \"/Users/laurabreimann/Desktop/Guys_data/PSFs/2017-08-03-19-34-25/Location-02/Calibration/\""
   ]
  },
  {
   "cell_type": "code",
   "execution_count": null,
   "metadata": {},
   "outputs": [],
   "source": [
    "# Save the PSF data as a TIFF file\n",
    "output_tiff_path = os.path.join(output_directory, 'psf_output.tif')  # Change 'output_directory' and file extension as needed\n",
    "tf.imwrite(output_tiff_path, psf)"
   ]
  }
 ],
 "metadata": {
  "language_info": {
   "name": "python"
  },
  "orig_nbformat": 4
 },
 "nbformat": 4,
 "nbformat_minor": 2
}
